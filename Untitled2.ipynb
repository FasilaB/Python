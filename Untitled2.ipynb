{
  "nbformat": 4,
  "nbformat_minor": 0,
  "metadata": {
    "colab": {
      "provenance": []
    },
    "kernelspec": {
      "name": "python3",
      "display_name": "Python 3"
    },
    "language_info": {
      "name": "python"
    }
  },
  "cells": [
    {
      "cell_type": "code",
      "execution_count": 1,
      "metadata": {
        "colab": {
          "base_uri": "https://localhost:8080/"
        },
        "id": "kvneINAt_1qA",
        "outputId": "c8e3d305-4387-42a6-866d-8f5c00488d3b"
      },
      "outputs": [
        {
          "output_type": "stream",
          "name": "stdout",
          "text": [
            "Original List: [1, 2, 3, 4, 5]\n",
            "After Adding 6: [1, 2, 3, 4, 5, 6]\n",
            "After Removing 3: [1, 2, 4, 5, 6]\n",
            "After Modifying the first element to 10: [10, 2, 4, 5, 6]\n"
          ]
        }
      ],
      "source": [
        "# List Operations\n",
        "my_list = [1, 2, 3, 4, 5]\n",
        "print(\"Original List:\", my_list)\n",
        "\n",
        "# Adding an element\n",
        "my_list.append(6)\n",
        "print(\"After Adding 6:\", my_list)\n",
        "\n",
        "# Removing an element\n",
        "my_list.remove(3)\n",
        "print(\"After Removing 3:\", my_list)\n",
        "\n",
        "# Modifying an element\n",
        "my_list[0] = 10\n",
        "print(\"After Modifying the first element to 10:\", my_list)\n"
      ]
    },
    {
      "cell_type": "code",
      "source": [
        "# Dictionary Operations\n",
        "my_dict = {'a': 1, 'b': 2, 'c': 3}\n",
        "print(\"Original Dictionary:\", my_dict)\n",
        "\n",
        "# Adding a key-value pair\n",
        "my_dict['d'] = 4\n",
        "print(\"After Adding key 'd':\", my_dict)\n",
        "\n",
        "# Removing a key-value pair\n",
        "del my_dict['b']\n",
        "print(\"After Removing key 'b':\", my_dict)\n",
        "\n",
        "# Modifying a value\n",
        "my_dict['a'] = 10\n",
        "print(\"After Modifying value of key 'a' to 10:\", my_dict)\n"
      ],
      "metadata": {
        "colab": {
          "base_uri": "https://localhost:8080/"
        },
        "id": "t4CsjgHr_-vu",
        "outputId": "42fa34f0-33b2-4268-90d0-c98684cc0233"
      },
      "execution_count": 2,
      "outputs": [
        {
          "output_type": "stream",
          "name": "stdout",
          "text": [
            "Original Dictionary: {'a': 1, 'b': 2, 'c': 3}\n",
            "After Adding key 'd': {'a': 1, 'b': 2, 'c': 3, 'd': 4}\n",
            "After Removing key 'b': {'a': 1, 'c': 3, 'd': 4}\n",
            "After Modifying value of key 'a' to 10: {'a': 10, 'c': 3, 'd': 4}\n"
          ]
        }
      ]
    },
    {
      "cell_type": "code",
      "source": [
        "# Set Operations\n",
        "my_set = {1, 2, 3, 4, 5}\n",
        "print(\"Original Set:\", my_set)\n",
        "\n",
        "# Adding an element\n",
        "my_set.add(6)\n",
        "print(\"After Adding 6:\", my_set)\n",
        "\n",
        "# Removing an element\n",
        "my_set.remove(3)\n",
        "print(\"After Removing 3:\", my_set)\n",
        "\n",
        "# Modifying is not applicable for sets since sets do not allow duplicate elements.\n",
        "# Sets are unordered collections of unique elements.\n",
        "print(\"Note: Sets do not support direct modification of elements.\")\n"
      ],
      "metadata": {
        "colab": {
          "base_uri": "https://localhost:8080/"
        },
        "id": "Rc-ZAYXTAA03",
        "outputId": "b94797e5-d466-4b0f-dfeb-5b2b94e1611f"
      },
      "execution_count": 3,
      "outputs": [
        {
          "output_type": "stream",
          "name": "stdout",
          "text": [
            "Original Set: {1, 2, 3, 4, 5}\n",
            "After Adding 6: {1, 2, 3, 4, 5, 6}\n",
            "After Removing 3: {1, 2, 4, 5, 6}\n",
            "Note: Sets do not support direct modification of elements.\n"
          ]
        }
      ]
    }
  ]
}